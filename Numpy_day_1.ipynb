{
 "cells": [
  {
   "cell_type": "markdown",
   "id": "3b7d1a8d-f398-4d17-ace4-ac65c49d674a",
   "metadata": {},
   "source": [
    "<h1>Numpy</h1>\n"
   ]
  },
  {
   "cell_type": "markdown",
   "id": "5bc30f24-9797-41c7-b039-ec779579116d",
   "metadata": {},
   "source": [
    "<h2 style=\"color:blue;\">Introduction</h2> \n",
    "\n",
    "* NumPy is a Python library used for working with arrays​ \n",
    "    \n",
    " * NumPy was created in 2005 by Travis Oliphant.​ \n",
    "    \n",
    "* It is open source​ \n",
    "    \n",
    "* The array object in NumPy is called ndarray\n",
    "\n",
    "* NumPy stands for Numerical Python"
   ]
  },
  {
   "cell_type": "markdown",
   "id": "3f8bb04b-01af-4f45-82ee-dbb561f1cc6d",
   "metadata": {},
   "source": [
    "<h3 style=\"color:red;\">Why use numpy?</h3>\n",
    "\n",
    "* has array object which is 50x faster than Python list\n",
    "  \n",
    "* functions for working in domain of linear algebra, fourier transform, and matrices​\n",
    "  \n",
    "* the array object in NumPy is called ndarray"
   ]
  },
  {
   "cell_type": "markdown",
   "id": "771ece73-38c9-4de4-bf38-c436a27b446c",
   "metadata": {},
   "source": [
    "<h3 style=\"color:red;\"> Why numpy is faster? </h3>\n",
    "\n",
    " * NumPy arrays are stored at one continuous place in memory unlike lists (locality of reference)\n",
    "   \n",
    " * written in C or C++ for fast computation (python is partially used)"
   ]
  },
  {
   "cell_type": "code",
   "execution_count": null,
   "id": "c9fe3c35-bec9-41ee-88a5-7843c8bee0bf",
   "metadata": {},
   "outputs": [
    {
     "ename": "",
     "evalue": "",
     "output_type": "error",
     "traceback": [
      "\u001b[1;31mRunning cells with 'c:\\Python310\\python.exe' requires the ipykernel package.\n",
      "\u001b[1;31mRun the following command to install 'ipykernel' into the Python environment. \n",
      "\u001b[1;31mCommand: 'c:/Python310/python.exe -m pip install ipykernel -U --user --force-reinstall'"
     ]
    }
   ],
   "source": [
    "#install numpy\n",
    "! pip install numpy"
   ]
  },
  {
   "cell_type": "code",
   "execution_count": 1,
   "id": "1aa46b04",
   "metadata": {},
   "outputs": [
    {
     "name": "stdout",
     "output_type": "stream",
     "text": [
      " Volume in drive C is New Volume\n",
      " Volume Serial Number is DA9E-831C\n",
      "\n",
      " Directory of C:\\Users\\us\\Documents\\python_tutorials\n",
      "\n",
      "12/12/2023  08:06 AM    <DIR>          .\n",
      "12/12/2023  08:06 AM    <DIR>          ..\n",
      "12/12/2023  08:00 AM    <DIR>          .ipynb_checkpoints\n",
      "12/09/2023  04:52 PM    <DIR>          basic_python\n",
      "12/05/2023  09:51 AM            43,423 Day2_python_basics.ipynb\n",
      "12/07/2023  07:32 AM            51,630 Day3_python_basics.ipynb\n",
      "12/07/2023  10:13 AM            28,326 Day4_python_basics.ipynb\n",
      "12/08/2023  08:17 AM            43,170 Day5_python_basics.ipynb\n",
      "12/10/2023  08:10 AM            31,250 Day_1_python_basics.ipynb\n",
      "12/07/2023  10:46 PM            13,086 exercise_python.docx\n",
      "12/10/2023  08:19 AM    <DIR>          First_git\n",
      "12/11/2023  10:08 AM            46,594 Github.pptx\n",
      "12/08/2023  07:43 AM                70 new_file.txt\n",
      "12/12/2023  08:06 AM            10,238 Numpy.ipynb\n",
      "12/08/2023  07:22 AM               178 sample.txt.txt\n",
      "12/12/2023  07:41 AM    <DIR>          Second git\n",
      "12/11/2023  10:02 AM    <DIR>          test\n",
      "              10 File(s)        267,965 bytes\n",
      "               7 Dir(s)  48,041,791,488 bytes free\n"
     ]
    }
   ],
   "source": [
    "! dir "
   ]
  },
  {
   "cell_type": "code",
   "execution_count": 5,
   "id": "73a7d5b5",
   "metadata": {},
   "outputs": [
    {
     "data": {
      "text/plain": [
       "'C:\\\\Users\\\\us\\\\Documents\\\\python_tutorials'"
      ]
     },
     "execution_count": 5,
     "metadata": {},
     "output_type": "execute_result"
    }
   ],
   "source": [
    "pwd"
   ]
  },
  {
   "cell_type": "code",
   "execution_count": 6,
   "id": "1e912f26-c734-47d3-815f-6a799600cce5",
   "metadata": {},
   "outputs": [
    {
     "name": "stdout",
     "output_type": "stream",
     "text": [
      "1.21.5\n"
     ]
    }
   ],
   "source": [
    "#check numpy version \n",
    "\n",
    "import numpy as np\n",
    "\n",
    "print(np.__version__)"
   ]
  },
  {
   "cell_type": "code",
   "execution_count": null,
   "id": "07b15cfc",
   "metadata": {},
   "outputs": [],
   "source": []
  },
  {
   "cell_type": "code",
   "execution_count": 7,
   "id": "180ea848-40b1-45e8-a54f-c5c5f2bcb080",
   "metadata": {},
   "outputs": [
    {
     "name": "stdout",
     "output_type": "stream",
     "text": [
      "[1 2 3 4 5]\n"
     ]
    }
   ],
   "source": [
    "import numpy\n",
    "\n",
    "arr = numpy.array([1, 2, 3, 4, 5])\n",
    "\n",
    "print(arr)"
   ]
  },
  {
   "cell_type": "code",
   "execution_count": 8,
   "id": "e0e606ed-2210-4ec1-838e-767d9d5c879d",
   "metadata": {},
   "outputs": [
    {
     "name": "stdout",
     "output_type": "stream",
     "text": [
      "[1 2 3 4 5]\n",
      "<class 'numpy.ndarray'>\n"
     ]
    }
   ],
   "source": [
    " # NumPy is usually imported under the np alias  \n",
    "# In Python alias are an alternate name for referring to the same thing\n",
    "\n",
    "import numpy as np\n",
    "\n",
    "arr = np.array([1, 2, 3, 4, 5])\n",
    "\n",
    "print(arr)\n",
    "print(type(arr))"
   ]
  },
  {
   "cell_type": "markdown",
   "id": "6bc2ce54-fcbb-4ec1-bb23-bd61e1dfbb6f",
   "metadata": {},
   "source": [
    "<h3 style=\"color:red;\"> Dimensions in Arrays </h3>\n",
    "\n",
    "<h3 style=\"color:red;\"> 0-D Arrays </h3>\n"
   ]
  },
  {
   "cell_type": "code",
   "execution_count": 10,
   "id": "0be51017-d07a-4a7b-8711-4b3a992645ea",
   "metadata": {},
   "outputs": [
    {
     "name": "stdout",
     "output_type": "stream",
     "text": [
      "42\n",
      "0 99999999\n",
      "The dimension of the above array is : 0\n"
     ]
    }
   ],
   "source": [
    "import numpy as np\n",
    "\n",
    "arr = np.array(42)\n",
    "\n",
    "print(arr)\n",
    "# print(arr.ndim, 99999999)\n",
    "\n",
    "print(\"The dimension of the above array is :\", arr.ndim)"
   ]
  },
  {
   "cell_type": "markdown",
   "id": "e34e13b5-e4da-41e3-8cd3-d48aab24f67a",
   "metadata": {},
   "source": [
    "<h3 style=\"color:red;\"> 1-D Arrays </h3>"
   ]
  },
  {
   "cell_type": "code",
   "execution_count": 11,
   "id": "570319f8-d904-441d-91e7-ee3b1b1089c6",
   "metadata": {},
   "outputs": [
    {
     "name": "stdout",
     "output_type": "stream",
     "text": [
      "[1 2 3 4 5]\n",
      "The dimension of the above array is : 1\n"
     ]
    }
   ],
   "source": [
    "import numpy as np\n",
    "\n",
    "arr = np.array([1, 2, 3, 4, 5])\n",
    "\n",
    "print(arr)\n",
    "\n",
    "\n",
    "print(\"The dimension of the above array is :\", arr.ndim)"
   ]
  },
  {
   "cell_type": "code",
   "execution_count": 14,
   "id": "58b51713-71d9-4694-bc97-53a66693ef79",
   "metadata": {},
   "outputs": [
    {
     "name": "stdout",
     "output_type": "stream",
     "text": [
      "3\n"
     ]
    }
   ],
   "source": [
    "#access 1-D array\n",
    "\n",
    "print(arr[-3])"
   ]
  },
  {
   "cell_type": "code",
   "execution_count": 79,
   "id": "38d3e301-53df-4da3-a9fc-cebec1c2d481",
   "metadata": {},
   "outputs": [
    {
     "data": {
      "text/plain": [
       "array([2, 3])"
      ]
     },
     "execution_count": 79,
     "metadata": {},
     "output_type": "execute_result"
    }
   ],
   "source": [
    "#slicing 1-D array\n",
    "\n",
    "arr[1:3]   #arr[-3:-1]"
   ]
  },
  {
   "cell_type": "markdown",
   "id": "9bba52ce-2ad8-4f1d-ae40-582cb0549a87",
   "metadata": {},
   "source": [
    "<h3 style=\"color:red;\"> 2-D Arrays </h3>"
   ]
  },
  {
   "cell_type": "code",
   "execution_count": 16,
   "id": "ff3b3405-e7ed-4605-a5ae-9f9f424e935f",
   "metadata": {},
   "outputs": [
    {
     "name": "stdout",
     "output_type": "stream",
     "text": [
      "[[1 2 3 5 7 9]\n",
      " [4 5 6 1 7 8]]\n",
      "The dimension of the above array is : 2\n"
     ]
    }
   ],
   "source": [
    "import numpy as np\n",
    "\n",
    "arr = np.array([[1, 2, 3, 5, 7, 9], [4, 5, 6,1, 7, 8]])\n",
    "\n",
    "print(arr)\n",
    "\n",
    "print(\"The dimension of the above array is :\", arr.ndim)"
   ]
  },
  {
   "cell_type": "code",
   "execution_count": 21,
   "id": "88051571-686e-420a-bf6b-28616c82ce57",
   "metadata": {},
   "outputs": [
    {
     "name": "stdout",
     "output_type": "stream",
     "text": [
      "7\n"
     ]
    }
   ],
   "source": [
    "#access 2-D array\n",
    "print(arr[0, 4])\n"
   ]
  },
  {
   "cell_type": "code",
   "execution_count": 85,
   "id": "9d4f4e35-7073-430a-a02f-edc1da15ee39",
   "metadata": {},
   "outputs": [
    {
     "data": {
      "text/plain": [
       "array([5, 6, 1, 7])"
      ]
     },
     "execution_count": 85,
     "metadata": {},
     "output_type": "execute_result"
    }
   ],
   "source": [
    "#slicing of 2-D array\n",
    "arr[1, 1:5]"
   ]
  },
  {
   "cell_type": "markdown",
   "id": "ed09482a-65ff-44c7-be37-ba646086b3ec",
   "metadata": {},
   "source": [
    "<h3 style=\"color:red;\"> 3-D arrays </h3>"
   ]
  },
  {
   "cell_type": "code",
   "execution_count": 23,
   "id": "d73f98c3-2a60-48f6-a606-764a5ce6b1e0",
   "metadata": {},
   "outputs": [
    {
     "name": "stdout",
     "output_type": "stream",
     "text": [
      "[[[ 1  2  3  6  8]\n",
      "  [ 4  5  6 77  8]]\n",
      "\n",
      " [[ 1  2  3  5  7]\n",
      "  [ 4  5  6  2  4]]]\n",
      "The dimension of the above array is : 3\n"
     ]
    }
   ],
   "source": [
    "import numpy as np\n",
    "\n",
    "arr = np.array([[[1, 2, 3, 6, 8], [4, 5, 6, 77, 8]], [[1, 2, 3, 5, 7], [4, 5, 6, 2, 4]]])\n",
    "\n",
    "print(arr)\n",
    "\n",
    "print(\"The dimension of the above array is :\", arr.ndim)\n"
   ]
  },
  {
   "cell_type": "code",
   "execution_count": 27,
   "id": "c20337a1-3996-49c0-9c8d-08ffebfe1377",
   "metadata": {},
   "outputs": [
    {
     "name": "stdout",
     "output_type": "stream",
     "text": [
      "8\n"
     ]
    }
   ],
   "source": [
    "#access 3-D array\n",
    "print(arr[0,1,4])\n",
    "\n",
    "#negative indexing\n",
    "# print(arr[1,1,-1])"
   ]
  },
  {
   "cell_type": "code",
   "execution_count": 102,
   "id": "75ea1b89-3a11-4c46-b92f-fd0024f748d4",
   "metadata": {},
   "outputs": [
    {
     "name": "stdout",
     "output_type": "stream",
     "text": [
      "[2]\n"
     ]
    }
   ],
   "source": [
    "#slicing 3-D array\n",
    "\n",
    "print(arr[0, 0, 1:2])"
   ]
  },
  {
   "cell_type": "code",
   "execution_count": null,
   "id": "4f2d3c3d-1dee-48f9-bd36-1aebca465b94",
   "metadata": {},
   "outputs": [],
   "source": []
  },
  {
   "cell_type": "code",
   "execution_count": 29,
   "id": "fd5f255f-c27d-44f5-ac0e-40c8ee1a1c42",
   "metadata": {},
   "outputs": [
    {
     "name": "stdout",
     "output_type": "stream",
     "text": [
      "[[[ 3  6 99]]]\n"
     ]
    }
   ],
   "source": [
    "#SPECIFY DIMENSION IN ARRAY\n",
    "import numpy as np\n",
    "\n",
    "arr = np.array([3, 6, 99], ndmin=3)\n",
    "print(arr)"
   ]
  },
  {
   "cell_type": "code",
   "execution_count": 10,
   "id": "1c6437d1-0f7f-4b4a-9163-b4d21d3f7714",
   "metadata": {},
   "outputs": [
    {
     "name": "stdout",
     "output_type": "stream",
     "text": [
      "2\n",
      "3\n",
      "4\n",
      "5\n"
     ]
    }
   ],
   "source": [
    "import numpy as np\n",
    "arr = np.array([2,3,4,5])\n",
    "for x in arr\n",
    "    print (x)\n"
   ]
  },
  {
   "cell_type": "code",
   "execution_count": 1,
   "id": "992aa4d9",
   "metadata": {},
   "outputs": [
    {
     "name": "stdout",
     "output_type": "stream",
     "text": [
      "            productname        date farmprice atlantaretail chicagoretail  \\\n",
      "0          Strawberries  2019-05-19     $1.16         $2.23         $1.70   \n",
      "1       Romaine Lettuce  2019-05-19     $0.35         $1.72         $2.00   \n",
      "2      Red Leaf Lettuce  2019-05-19     $0.32         $1.84         $1.84   \n",
      "3              Potatoes  2019-05-19     $1.50         $5.32         $5.14   \n",
      "4               Oranges  2019-05-19     $0.41         $1.42         $1.45   \n",
      "...                 ...         ...       ...           ...           ...   \n",
      "15761   Broccoli Crowns  1999-10-24     $0.29         $1.46         $0.00   \n",
      "15762  Broccoli Bunches  1999-10-24     $0.23         $1.21         $0.00   \n",
      "15763       Cauliflower  1999-10-24     $0.19         $1.01         $0.00   \n",
      "15764           Carrots  1999-10-24     $0.12         $0.64         $0.00   \n",
      "15765        Cantaloupe  1999-10-24     $0.21         $0.54         $0.00   \n",
      "\n",
      "      losangelesretail newyorkretail averagespread  \n",
      "0                $1.99         $2.54        82.33%  \n",
      "1                $1.69         $1.99       428.57%  \n",
      "2                $1.69         $1.89       467.19%  \n",
      "3                $3.99         $6.22       244.50%  \n",
      "4                $1.34         $2.05       281.71%  \n",
      "...                ...           ...           ...  \n",
      "15761            $0.97         $1.15       208.62%  \n",
      "15762            $0.84         $1.10       242.39%  \n",
      "15763            $0.75         $0.92       252.63%  \n",
      "15764            $0.84         $0.59       331.25%  \n",
      "15765            $0.56         $0.79       125.00%  \n",
      "\n",
      "[15766 rows x 8 columns]\n"
     ]
    }
   ],
   "source": [
    "import pandas as pd \n",
    "df = pd.read_csv('fruits.csv')\n",
    "\n",
    "print(df)"
   ]
  },
  {
   "cell_type": "code",
   "execution_count": 3,
   "id": "109353c9",
   "metadata": {},
   "outputs": [
    {
     "data": {
      "text/html": [
       "<div>\n",
       "<style scoped>\n",
       "    .dataframe tbody tr th:only-of-type {\n",
       "        vertical-align: middle;\n",
       "    }\n",
       "\n",
       "    .dataframe tbody tr th {\n",
       "        vertical-align: top;\n",
       "    }\n",
       "\n",
       "    .dataframe thead th {\n",
       "        text-align: right;\n",
       "    }\n",
       "</style>\n",
       "<table border=\"1\" class=\"dataframe\">\n",
       "  <thead>\n",
       "    <tr style=\"text-align: right;\">\n",
       "      <th></th>\n",
       "      <th>productname</th>\n",
       "      <th>date</th>\n",
       "      <th>farmprice</th>\n",
       "      <th>atlantaretail</th>\n",
       "      <th>chicagoretail</th>\n",
       "      <th>losangelesretail</th>\n",
       "      <th>newyorkretail</th>\n",
       "      <th>averagespread</th>\n",
       "    </tr>\n",
       "  </thead>\n",
       "  <tbody>\n",
       "    <tr>\n",
       "      <th>0</th>\n",
       "      <td>Strawberries</td>\n",
       "      <td>2019-05-19</td>\n",
       "      <td>$1.16</td>\n",
       "      <td>$2.23</td>\n",
       "      <td>$1.70</td>\n",
       "      <td>$1.99</td>\n",
       "      <td>$2.54</td>\n",
       "      <td>82.33%</td>\n",
       "    </tr>\n",
       "    <tr>\n",
       "      <th>1</th>\n",
       "      <td>Romaine Lettuce</td>\n",
       "      <td>2019-05-19</td>\n",
       "      <td>$0.35</td>\n",
       "      <td>$1.72</td>\n",
       "      <td>$2.00</td>\n",
       "      <td>$1.69</td>\n",
       "      <td>$1.99</td>\n",
       "      <td>428.57%</td>\n",
       "    </tr>\n",
       "    <tr>\n",
       "      <th>2</th>\n",
       "      <td>Red Leaf Lettuce</td>\n",
       "      <td>2019-05-19</td>\n",
       "      <td>$0.32</td>\n",
       "      <td>$1.84</td>\n",
       "      <td>$1.84</td>\n",
       "      <td>$1.69</td>\n",
       "      <td>$1.89</td>\n",
       "      <td>467.19%</td>\n",
       "    </tr>\n",
       "    <tr>\n",
       "      <th>3</th>\n",
       "      <td>Potatoes</td>\n",
       "      <td>2019-05-19</td>\n",
       "      <td>$1.50</td>\n",
       "      <td>$5.32</td>\n",
       "      <td>$5.14</td>\n",
       "      <td>$3.99</td>\n",
       "      <td>$6.22</td>\n",
       "      <td>244.50%</td>\n",
       "    </tr>\n",
       "    <tr>\n",
       "      <th>4</th>\n",
       "      <td>Oranges</td>\n",
       "      <td>2019-05-19</td>\n",
       "      <td>$0.41</td>\n",
       "      <td>$1.42</td>\n",
       "      <td>$1.45</td>\n",
       "      <td>$1.34</td>\n",
       "      <td>$2.05</td>\n",
       "      <td>281.71%</td>\n",
       "    </tr>\n",
       "    <tr>\n",
       "      <th>5</th>\n",
       "      <td>Iceberg Lettuce</td>\n",
       "      <td>2019-05-19</td>\n",
       "      <td>$0.35</td>\n",
       "      <td>$1.39</td>\n",
       "      <td>$1.46</td>\n",
       "      <td>$1.69</td>\n",
       "      <td>$1.56</td>\n",
       "      <td>335.71%</td>\n",
       "    </tr>\n",
       "    <tr>\n",
       "      <th>6</th>\n",
       "      <td>Green Leaf Lettuce</td>\n",
       "      <td>2019-05-19</td>\n",
       "      <td>$0.31</td>\n",
       "      <td>$1.72</td>\n",
       "      <td>$1.70</td>\n",
       "      <td>$1.69</td>\n",
       "      <td>$1.71</td>\n",
       "      <td>450.00%</td>\n",
       "    </tr>\n",
       "    <tr>\n",
       "      <th>7</th>\n",
       "      <td>Celery</td>\n",
       "      <td>2019-05-19</td>\n",
       "      <td>$2.83</td>\n",
       "      <td>$1.89</td>\n",
       "      <td>$2.36</td>\n",
       "      <td>$2.52</td>\n",
       "      <td>$2.49</td>\n",
       "      <td>-18.20%</td>\n",
       "    </tr>\n",
       "    <tr>\n",
       "      <th>8</th>\n",
       "      <td>Cauliflower</td>\n",
       "      <td>2019-05-19</td>\n",
       "      <td>$1.22</td>\n",
       "      <td>$3.24</td>\n",
       "      <td>$4.35</td>\n",
       "      <td>$4.03</td>\n",
       "      <td>$2.97</td>\n",
       "      <td>198.98%</td>\n",
       "    </tr>\n",
       "    <tr>\n",
       "      <th>9</th>\n",
       "      <td>Carrots</td>\n",
       "      <td>2019-05-19</td>\n",
       "      <td>$0.24</td>\n",
       "      <td>$0.95</td>\n",
       "      <td>$0.95</td>\n",
       "      <td>$0.99</td>\n",
       "      <td>$1.22</td>\n",
       "      <td>328.13%</td>\n",
       "    </tr>\n",
       "  </tbody>\n",
       "</table>\n",
       "</div>"
      ],
      "text/plain": [
       "          productname        date farmprice atlantaretail chicagoretail  \\\n",
       "0        Strawberries  2019-05-19     $1.16         $2.23         $1.70   \n",
       "1     Romaine Lettuce  2019-05-19     $0.35         $1.72         $2.00   \n",
       "2    Red Leaf Lettuce  2019-05-19     $0.32         $1.84         $1.84   \n",
       "3            Potatoes  2019-05-19     $1.50         $5.32         $5.14   \n",
       "4             Oranges  2019-05-19     $0.41         $1.42         $1.45   \n",
       "5     Iceberg Lettuce  2019-05-19     $0.35         $1.39         $1.46   \n",
       "6  Green Leaf Lettuce  2019-05-19     $0.31         $1.72         $1.70   \n",
       "7              Celery  2019-05-19     $2.83         $1.89         $2.36   \n",
       "8         Cauliflower  2019-05-19     $1.22         $3.24         $4.35   \n",
       "9             Carrots  2019-05-19     $0.24         $0.95         $0.95   \n",
       "\n",
       "  losangelesretail newyorkretail averagespread  \n",
       "0            $1.99         $2.54        82.33%  \n",
       "1            $1.69         $1.99       428.57%  \n",
       "2            $1.69         $1.89       467.19%  \n",
       "3            $3.99         $6.22       244.50%  \n",
       "4            $1.34         $2.05       281.71%  \n",
       "5            $1.69         $1.56       335.71%  \n",
       "6            $1.69         $1.71       450.00%  \n",
       "7            $2.52         $2.49       -18.20%  \n",
       "8            $4.03         $2.97       198.98%  \n",
       "9            $0.99         $1.22       328.13%  "
      ]
     },
     "execution_count": 3,
     "metadata": {},
     "output_type": "execute_result"
    }
   ],
   "source": [
    "df.head(10)\n"
   ]
  },
  {
   "cell_type": "code",
   "execution_count": null,
   "id": "82b0c0f0",
   "metadata": {},
   "outputs": [],
   "source": []
  }
 ],
 "metadata": {
  "kernelspec": {
   "display_name": "Python 3 (ipykernel)",
   "language": "python",
   "name": "python3"
  },
  "language_info": {
   "codemirror_mode": {
    "name": "ipython",
    "version": 3
   },
   "file_extension": ".py",
   "mimetype": "text/x-python",
   "name": "python",
   "nbconvert_exporter": "python",
   "pygments_lexer": "ipython3",
   "version": "3.10.4"
  }
 },
 "nbformat": 4,
 "nbformat_minor": 5
}
